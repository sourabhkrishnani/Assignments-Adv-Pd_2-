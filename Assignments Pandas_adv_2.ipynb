{
 "cells": [
  {
   "cell_type": "code",
   "execution_count": 1,
   "id": "d3e97974-a236-48d8-a392-7758912c8f1b",
   "metadata": {},
   "outputs": [
    {
     "data": {
      "text/html": [
       "<div>\n",
       "<style scoped>\n",
       "    .dataframe tbody tr th:only-of-type {\n",
       "        vertical-align: middle;\n",
       "    }\n",
       "\n",
       "    .dataframe tbody tr th {\n",
       "        vertical-align: top;\n",
       "    }\n",
       "\n",
       "    .dataframe thead th {\n",
       "        text-align: right;\n",
       "    }\n",
       "</style>\n",
       "<table border=\"1\" class=\"dataframe\">\n",
       "  <thead>\n",
       "    <tr style=\"text-align: right;\">\n",
       "      <th></th>\n",
       "      <th>course_name</th>\n",
       "      <th>duration</th>\n",
       "    </tr>\n",
       "  </thead>\n",
       "  <tbody>\n",
       "    <tr>\n",
       "      <th>0</th>\n",
       "      <td>Data Science</td>\n",
       "      <td>2</td>\n",
       "    </tr>\n",
       "    <tr>\n",
       "      <th>1</th>\n",
       "      <td>Machine Learning</td>\n",
       "      <td>3</td>\n",
       "    </tr>\n",
       "    <tr>\n",
       "      <th>2</th>\n",
       "      <td>Big Data</td>\n",
       "      <td>6</td>\n",
       "    </tr>\n",
       "    <tr>\n",
       "      <th>3</th>\n",
       "      <td>Data Engineer</td>\n",
       "      <td>4</td>\n",
       "    </tr>\n",
       "  </tbody>\n",
       "</table>\n",
       "</div>"
      ],
      "text/plain": [
       "        course_name  duration\n",
       "0      Data Science         2\n",
       "1  Machine Learning         3\n",
       "2          Big Data         6\n",
       "3     Data Engineer         4"
      ]
     },
     "execution_count": 1,
     "metadata": {},
     "output_type": "execute_result"
    }
   ],
   "source": [
    "import pandas as pd\n",
    "course_name = ['Data Science', 'Machine Learning', 'Big Data', 'Data Engineer']\n",
    "duration = [2,3,6,4]\n",
    "df = pd.DataFrame(data = {'course_name' : course_name, 'duration' : duration})\n",
    "df"
   ]
  },
  {
   "cell_type": "markdown",
   "id": "5564dbe5-060d-4d65-8fb0-2c1eaf7f3ee5",
   "metadata": {},
   "source": [
    "#Q1 "
   ]
  },
  {
   "cell_type": "code",
   "execution_count": 6,
   "id": "4ea58b2e-08ad-4d21-9bbc-877fe0af6437",
   "metadata": {},
   "outputs": [
    {
     "name": "stdout",
     "output_type": "stream",
     "text": [
      "        course_name  duration\n",
      "0               NaN       NaN\n",
      "1  Machine Learning       3.0\n",
      "2               NaN       NaN\n",
      "3               NaN       NaN\n"
     ]
    }
   ],
   "source": [
    "def print_sencon_row(df):\n",
    "    df['course_name']=df.iloc[1:2]['course_name']\n",
    "    df['duration']=df.iloc[1:2]['duration']\n",
    "    return df\n",
    "df_new =print_sencon_row(df)\n",
    "print(df_new)"
   ]
  },
  {
   "cell_type": "markdown",
   "id": "96ee7ffd-8db9-4625-885b-59c7c3df7e22",
   "metadata": {},
   "source": [
    "#Q2"
   ]
  },
  {
   "cell_type": "markdown",
   "id": "11ac6323-6886-4c33-a842-17db15de2fbd",
   "metadata": {},
   "source": [
    "In Pandas, both loc and iloc are used to access elements within a DataFrame, but they differ in how they handle the indexing."
   ]
  },
  {
   "cell_type": "markdown",
   "id": "825d604f-9b06-4d1f-9a2b-9b7e2a7cced9",
   "metadata": {},
   "source": [
    "\n",
    "loc: This attribute accesses a group of rows and columns by labels or a boolean array. It is label-based, which means that you have to specify rows and columns based on their labels (index and column names). It is inclusive of the last element, unlike Python's usual slicing."
   ]
  },
  {
   "cell_type": "markdown",
   "id": "fc56ca49-ca6c-4611-96e7-7209c8e5365f",
   "metadata": {},
   "source": [
    "iloc: This attribute accesses a group of rows and columns by integer position, meaning it is purely integer-location based. This is 0-based indexing. When using iloc, both the start and stop bounds are included, which is different from typical Python slicing where the last element is excluded."
   ]
  },
  {
   "cell_type": "code",
   "execution_count": 12,
   "id": "5ca73a4d-a26e-4787-807c-5875caa9f6c1",
   "metadata": {},
   "outputs": [
    {
     "name": "stdout",
     "output_type": "stream",
     "text": [
      "Dataframe:\n",
      "      A  B\n",
      "row1  1  a\n",
      "row2  2  b\n",
      "row3  3  c\n",
      "row4  4  d\n",
      "row5  5  e\n",
      "\n",
      "Using loc:\n",
      "2\n",
      "      A  B\n",
      "row2  2  b\n",
      "row3  3  c\n",
      "row4  4  d\n",
      "\n",
      "Using iloc:\n",
      "2\n",
      "      A  B\n",
      "row2  2  b\n",
      "row3  3  c\n",
      "row4  4  d\n"
     ]
    }
   ],
   "source": [
    "df = pd.DataFrame({'A':[1,2,3,4,5],\n",
    "                   'B':['a','b','c','d','e']},\n",
    "                   index= ['row1' , 'row2','row3','row4','row5'])\n",
    "                   \n",
    "print(\"Dataframe:\")\n",
    "print(df)\n",
    "print()\n",
    "\n",
    "# Accessing rows and colomns using loc\n",
    "print(\"Using loc:\")\n",
    "print(df.loc['row2','A']) #Accessing a single element \n",
    "print(df.loc['row2':'row4','A':'B']) #Accessing a slice\n",
    "print()\n",
    "\n",
    "#Accessing rows and columns using iloc\n",
    "print(\"Using iloc:\")\n",
    "print(df.iloc[1,0]) #Accessing a single element\n",
    "print(df.iloc[1:4, 0:2]) #Accessing a slice"
   ]
  },
  {
   "cell_type": "markdown",
   "id": "165b6531-c977-421b-a187-bfdb57fb31c2",
   "metadata": {},
   "source": [
    "#Q3"
   ]
  },
  {
   "cell_type": "code",
   "execution_count": 13,
   "id": "bf9af4e1-61f6-441c-954e-4c38643ac9cd",
   "metadata": {},
   "outputs": [
    {
     "name": "stdout",
     "output_type": "stream",
     "text": [
      "Output for new_df.loc[2]:\n",
      "course_name    Big Data\n",
      "duration              6\n",
      "Name: 2, dtype: object\n",
      "\n",
      "Output for new_df.iloc[2]:\n",
      "course_name    Machine Learning\n",
      "duration                      3\n",
      "Name: 1, dtype: object\n"
     ]
    }
   ],
   "source": [
    "import pandas as pd\n",
    "\n",
    "# Given DataFrame\n",
    "course_name = ['Data Science', 'Machine Learning', 'Big Data', 'Data Engineer']\n",
    "duration = [2, 3, 6, 4]\n",
    "df = pd.DataFrame(data={'course_name': course_name, 'duration': duration})\n",
    "\n",
    "# Reindexing the DataFrame\n",
    "reindex = [3, 0, 1, 2]\n",
    "new_df = df.reindex(reindex)\n",
    "\n",
    "# Output for new_df.loc[2]\n",
    "output_loc = new_df.loc[2]\n",
    "print(\"Output for new_df.loc[2]:\")\n",
    "print(output_loc)\n",
    "print()\n",
    "\n",
    "# Output for new_df.iloc[2]\n",
    "output_iloc = new_df.iloc[2]\n",
    "print(\"Output for new_df.iloc[2]:\")\n",
    "print(output_iloc)\n"
   ]
  },
  {
   "cell_type": "code",
   "execution_count": 15,
   "id": "159ec2d9-5cdf-459a-985e-6d64529bbcb8",
   "metadata": {},
   "outputs": [
    {
     "data": {
      "text/html": [
       "<div>\n",
       "<style scoped>\n",
       "    .dataframe tbody tr th:only-of-type {\n",
       "        vertical-align: middle;\n",
       "    }\n",
       "\n",
       "    .dataframe tbody tr th {\n",
       "        vertical-align: top;\n",
       "    }\n",
       "\n",
       "    .dataframe thead th {\n",
       "        text-align: right;\n",
       "    }\n",
       "</style>\n",
       "<table border=\"1\" class=\"dataframe\">\n",
       "  <thead>\n",
       "    <tr style=\"text-align: right;\">\n",
       "      <th></th>\n",
       "      <th>course_name</th>\n",
       "      <th>duration</th>\n",
       "    </tr>\n",
       "  </thead>\n",
       "  <tbody>\n",
       "    <tr>\n",
       "      <th>3</th>\n",
       "      <td>Data Engineer</td>\n",
       "      <td>4</td>\n",
       "    </tr>\n",
       "    <tr>\n",
       "      <th>0</th>\n",
       "      <td>Data Science</td>\n",
       "      <td>2</td>\n",
       "    </tr>\n",
       "    <tr>\n",
       "      <th>1</th>\n",
       "      <td>Machine Learning</td>\n",
       "      <td>3</td>\n",
       "    </tr>\n",
       "    <tr>\n",
       "      <th>2</th>\n",
       "      <td>Big Data</td>\n",
       "      <td>6</td>\n",
       "    </tr>\n",
       "  </tbody>\n",
       "</table>\n",
       "</div>"
      ],
      "text/plain": [
       "        course_name  duration\n",
       "3     Data Engineer         4\n",
       "0      Data Science         2\n",
       "1  Machine Learning         3\n",
       "2          Big Data         6"
      ]
     },
     "execution_count": 15,
     "metadata": {},
     "output_type": "execute_result"
    }
   ],
   "source": [
    "new_df"
   ]
  },
  {
   "cell_type": "markdown",
   "id": "af1299e8-e671-4a87-9aa0-49cb08de9cbd",
   "metadata": {},
   "source": [
    "new_df.loc[2]: When using loc, Pandas treats the argument as a label. In this case, the label 2 corresponds to the index label 2 after reindexing (since we've used the reindex [3, 0, 1, 2]). Therefore, new_df.loc[2] returns the row labeled 2, which is 'Big Data' with a duration of 6.\n",
    "\n",
    "new_df.iloc[2]: When using iloc, Pandas treats the argument as an integer position. In this case, 2 refers to the third row after reindexing (remember, iloc uses zero-based indexing). So, new_df.iloc[2] returns the row at the third position, which is 'Machine Learning' with a duration of 3."
   ]
  },
  {
   "cell_type": "markdown",
   "id": "ce68ad77-d5b5-49b1-aee0-3f7415f30297",
   "metadata": {},
   "source": [
    "#Q4"
   ]
  },
  {
   "cell_type": "code",
   "execution_count": 17,
   "id": "32dff97f-d020-40f4-87ba-75787241b0a4",
   "metadata": {},
   "outputs": [],
   "source": [
    "import pandas as pd\n",
    "import numpy as np\n",
    "columns = ['column_1', 'column_2', 'column_3', 'column_4', 'column_5', 'column_6']\n",
    "indices = [1,2,3,4,5,6]\n",
    "#Creating a dataframe:\n",
    "df1 = pd.DataFrame(np.random.rand(6,6), columns = columns, index = indices)"
   ]
  },
  {
   "cell_type": "code",
   "execution_count": 18,
   "id": "42152340-6784-4374-8871-a18b5b6800ce",
   "metadata": {},
   "outputs": [
    {
     "data": {
      "text/html": [
       "<div>\n",
       "<style scoped>\n",
       "    .dataframe tbody tr th:only-of-type {\n",
       "        vertical-align: middle;\n",
       "    }\n",
       "\n",
       "    .dataframe tbody tr th {\n",
       "        vertical-align: top;\n",
       "    }\n",
       "\n",
       "    .dataframe thead th {\n",
       "        text-align: right;\n",
       "    }\n",
       "</style>\n",
       "<table border=\"1\" class=\"dataframe\">\n",
       "  <thead>\n",
       "    <tr style=\"text-align: right;\">\n",
       "      <th></th>\n",
       "      <th>column_1</th>\n",
       "      <th>column_2</th>\n",
       "      <th>column_3</th>\n",
       "      <th>column_4</th>\n",
       "      <th>column_5</th>\n",
       "      <th>column_6</th>\n",
       "    </tr>\n",
       "  </thead>\n",
       "  <tbody>\n",
       "    <tr>\n",
       "      <th>1</th>\n",
       "      <td>0.520054</td>\n",
       "      <td>0.045466</td>\n",
       "      <td>0.646998</td>\n",
       "      <td>0.185987</td>\n",
       "      <td>0.960952</td>\n",
       "      <td>0.333402</td>\n",
       "    </tr>\n",
       "    <tr>\n",
       "      <th>2</th>\n",
       "      <td>0.398036</td>\n",
       "      <td>0.740999</td>\n",
       "      <td>0.703313</td>\n",
       "      <td>0.507498</td>\n",
       "      <td>0.290733</td>\n",
       "      <td>0.537703</td>\n",
       "    </tr>\n",
       "    <tr>\n",
       "      <th>3</th>\n",
       "      <td>0.870570</td>\n",
       "      <td>0.650738</td>\n",
       "      <td>0.494213</td>\n",
       "      <td>0.930528</td>\n",
       "      <td>0.148586</td>\n",
       "      <td>0.648947</td>\n",
       "    </tr>\n",
       "    <tr>\n",
       "      <th>4</th>\n",
       "      <td>0.673236</td>\n",
       "      <td>0.117349</td>\n",
       "      <td>0.790681</td>\n",
       "      <td>0.336243</td>\n",
       "      <td>0.042431</td>\n",
       "      <td>0.638078</td>\n",
       "    </tr>\n",
       "    <tr>\n",
       "      <th>5</th>\n",
       "      <td>0.941172</td>\n",
       "      <td>0.603648</td>\n",
       "      <td>0.934343</td>\n",
       "      <td>0.458108</td>\n",
       "      <td>0.607669</td>\n",
       "      <td>0.309936</td>\n",
       "    </tr>\n",
       "    <tr>\n",
       "      <th>6</th>\n",
       "      <td>0.709516</td>\n",
       "      <td>0.271931</td>\n",
       "      <td>0.377456</td>\n",
       "      <td>0.508453</td>\n",
       "      <td>0.688229</td>\n",
       "      <td>0.589668</td>\n",
       "    </tr>\n",
       "  </tbody>\n",
       "</table>\n",
       "</div>"
      ],
      "text/plain": [
       "   column_1  column_2  column_3  column_4  column_5  column_6\n",
       "1  0.520054  0.045466  0.646998  0.185987  0.960952  0.333402\n",
       "2  0.398036  0.740999  0.703313  0.507498  0.290733  0.537703\n",
       "3  0.870570  0.650738  0.494213  0.930528  0.148586  0.648947\n",
       "4  0.673236  0.117349  0.790681  0.336243  0.042431  0.638078\n",
       "5  0.941172  0.603648  0.934343  0.458108  0.607669  0.309936\n",
       "6  0.709516  0.271931  0.377456  0.508453  0.688229  0.589668"
      ]
     },
     "execution_count": 18,
     "metadata": {},
     "output_type": "execute_result"
    }
   ],
   "source": [
    "df1"
   ]
  },
  {
   "cell_type": "code",
   "execution_count": 26,
   "id": "04fbaa7d-67ed-401a-86cb-2c439773e0c9",
   "metadata": {},
   "outputs": [
    {
     "name": "stdout",
     "output_type": "stream",
     "text": [
      "Mean of each column:\n",
      "column_1    0.685430\n",
      "column_2    0.405022\n",
      "column_3    0.657834\n",
      "column_4    0.487803\n",
      "column_5    0.456433\n",
      "column_6    0.509622\n",
      "dtype: float64\n"
     ]
    }
   ],
   "source": [
    "column_means = df1.mean()\n",
    "print(\"Mean of each column:\")\n",
    "print(column_means)"
   ]
  },
  {
   "cell_type": "code",
   "execution_count": 28,
   "id": "84bf9b0b-d078-4424-a7fc-15515c10f885",
   "metadata": {},
   "outputs": [
    {
     "name": "stdout",
     "output_type": "stream",
     "text": [
      "Standard deviation for 'column_2': 0.2974755578088274\n"
     ]
    }
   ],
   "source": [
    "std_2 = df1['column_2'].std()\n",
    "print(\"Standard deviation for 'column_2':\", std_2)"
   ]
  },
  {
   "cell_type": "markdown",
   "id": "7a066d9c-3aa5-475f-ba3a-8a2e774c89d7",
   "metadata": {},
   "source": [
    "#Q5"
   ]
  },
  {
   "cell_type": "markdown",
   "id": "3e0fd7b7-b8be-43c9-953c-6d312514caf3",
   "metadata": {},
   "source": [
    "If you replace the data in the second row of 'column_2' with a string variable, you'll likely encounter an error when trying to calculate the mean of 'column_2'. This is because you're trying to calculate the mean of a column that contains both numeric and non-numeric (string) values, which isn't possible."
   ]
  },
  {
   "cell_type": "code",
   "execution_count": 30,
   "id": "93a14980-efe4-42fd-ae91-2f31dc38439b",
   "metadata": {},
   "outputs": [
    {
     "name": "stdout",
     "output_type": "stream",
     "text": [
      "Error: can only concatenate str (not \"float\") to str\n"
     ]
    }
   ],
   "source": [
    "df1.loc[1, 'column_2'] = 'String'\n",
    "\n",
    "try:\n",
    "    mean_column_2 = df1['column_2'].mean()\n",
    "    print(\"Mean of 'column_2':\", mean_column_2)\n",
    "except Exception as e:\n",
    "    print(\"Error:\", e)"
   ]
  },
  {
   "cell_type": "markdown",
   "id": "b51248a7-8f73-4cd6-818a-c595f8fa5ed3",
   "metadata": {},
   "source": [
    "#Q6"
   ]
  },
  {
   "cell_type": "markdown",
   "id": "1fcdd416-75a8-4bac-8c85-75ecdb06ed58",
   "metadata": {},
   "source": [
    "In Pandas, the window functions are used for calculating statistics over a specified window of values. These functions are particularly useful for time-series data and other sequential data where you want to calculate rolling statistics, such as rolling mean, rolling sum, etc.\n",
    "\n",
    "Window functions in Pandas are primarily implemented using the rolling() function, which creates a rolling window object, and then various statistical functions can be applied on this window object. Some common window functions include:"
   ]
  },
  {
   "cell_type": "markdown",
   "id": "51668bc6-9413-4691-89ce-bf5cf0a86e51",
   "metadata": {},
   "source": [
    "rolling(): This function creates a rolling window object, which can then be used to calculate rolling statistics.\n",
    "\n",
    "mean(): Computes the rolling mean over the values in the window.\n",
    "\n",
    "sum(): Computes the rolling sum over the values in the window.\n",
    "\n",
    "std(): Computes the rolling standard deviation over the values in the window.\n",
    "\n",
    "min(): Computes the rolling minimum over the values in the window.\n",
    "\n",
    "max(): Computes the rolling maximum over the values in the window.\n",
    "\n",
    "median(): Computes the rolling median over the values in the window.\n",
    "\n",
    "quantile(): Computes the rolling quantile over the values in the window.\n",
    "\n",
    "apply(): Applies a custom function to the values in the window.\n",
    "\n",
    "corr(): Computes the rolling correlation between two time series.\n",
    "\n",
    "cov(): Computes the rolling covariance between two time series.\n",
    "\n",
    "agg(): Aggregates the values in the window using one or more functions."
   ]
  },
  {
   "cell_type": "markdown",
   "id": "4122ff1a-f339-447d-ad6c-28d4f23123e4",
   "metadata": {},
   "source": [
    "#Q7"
   ]
  },
  {
   "cell_type": "code",
   "execution_count": 31,
   "id": "fc5b7f2c-37aa-43aa-b82f-e140d9e28564",
   "metadata": {},
   "outputs": [
    {
     "name": "stdout",
     "output_type": "stream",
     "text": [
      "Current month and year: 3 2024\n"
     ]
    }
   ],
   "source": [
    "from datetime import datetime\n",
    "\n",
    "# Get the current date and time\n",
    "current_date = datetime.now()\n",
    "\n",
    "# Extract the month and year from the current date\n",
    "current_month = current_date.month\n",
    "current_year = current_date.year\n",
    "\n",
    "# Print the current month and year\n",
    "print(\"Current month and year:\", current_month, current_year)"
   ]
  },
  {
   "cell_type": "markdown",
   "id": "7a6e651a-e05d-41f1-b403-7d3991679094",
   "metadata": {},
   "source": [
    "#Q8"
   ]
  },
  {
   "cell_type": "code",
   "execution_count": 32,
   "id": "f887bc99-ca5a-47ec-ac84-fffd21a64409",
   "metadata": {},
   "outputs": [
    {
     "name": "stdin",
     "output_type": "stream",
     "text": [
      "Enter the first date (YYYY-MM-DD):  2024-03-06\n",
      "Enter the second date (YYYY-MM-DD):  2024-02-06\n"
     ]
    },
    {
     "name": "stdout",
     "output_type": "stream",
     "text": [
      "Time difference:\n",
      "Days: -29\n",
      "Hours: 0\n",
      "Minutes: 0\n"
     ]
    }
   ],
   "source": [
    "\n",
    "def calculate_time_difference(date1, date2):\n",
    "    # Convert the input strings to datetime objects\n",
    "    date1 = pd.to_datetime(date1)\n",
    "    date2 = pd.to_datetime(date2)\n",
    "    \n",
    "    # Calculate the time difference\n",
    "    time_diff = date2 - date1\n",
    "    \n",
    "    # Extract days, hours, and minutes from the time difference\n",
    "    days = time_diff.days\n",
    "    hours = time_diff.seconds // 3600\n",
    "    minutes = (time_diff.seconds % 3600) // 60\n",
    "    \n",
    "    return days, hours, minutes\n",
    "\n",
    "# Prompt the user to enter the dates\n",
    "date1 = input(\"Enter the first date (YYYY-MM-DD): \")\n",
    "date2 = input(\"Enter the second date (YYYY-MM-DD): \")\n",
    "\n",
    "# Calculate the time difference\n",
    "days, hours, minutes = calculate_time_difference(date1, date2)\n",
    "\n",
    "# Display the result\n",
    "print(\"Time difference:\")\n",
    "print(f\"Days: {days}\")\n",
    "print(f\"Hours: {hours}\")\n",
    "print(f\"Minutes: {minutes}\")"
   ]
  },
  {
   "cell_type": "markdown",
   "id": "25993f84-ba52-4c27-a3db-4cb388818d4c",
   "metadata": {},
   "source": [
    "#Q9"
   ]
  },
  {
   "cell_type": "code",
   "execution_count": null,
   "id": "009e0461-966c-4522-8c10-4655e10ef50f",
   "metadata": {},
   "outputs": [],
   "source": [
    "import pandas as pd\n",
    "\n",
    "def convert_to_categorical(df, column_name, category_order):\n",
    "    # Convert the specified column to categorical with specified category order\n",
    "    df[column_name] = pd.Categorical(df[column_name], categories=category_order, ordered=True)\n",
    "    return df\n",
    "\n",
    "# Prompt the user to enter the file path, column name, and category order\n",
    "file_path = input(\"Enter the file path of the CSV file: \")\n",
    "column_name = input(\"Enter the column name to convert to categorical: \")\n",
    "category_order = input(\"Enter the category order (comma-separated): \").split(',')\n",
    "\n",
    "# Read the CSV file\n",
    "try:\n",
    "    df = pd.read_csv(file_path)\n",
    "except FileNotFoundError:\n",
    "    print(\"File not found. Please make sure you entered the correct file path.\")\n",
    "    exit()\n",
    "\n",
    "# Convert the specified column to categorical\n",
    "df = convert_to_categorical(df, column_name, category_order)\n",
    "\n",
    "# Display the sorted data\n",
    "sorted_data = df.sort_values(by=column_name)\n",
    "print(\"Sorted data:\")\n",
    "print(sorted_data)\n"
   ]
  },
  {
   "cell_type": "markdown",
   "id": "2d71bf62-092d-44b8-91ca-e989e6368162",
   "metadata": {},
   "source": [
    "#Q10"
   ]
  },
  {
   "cell_type": "code",
   "execution_count": 8,
   "id": "f563efe4-ad8e-4a26-a515-14f3a33b7d36",
   "metadata": {},
   "outputs": [
    {
     "name": "stdin",
     "output_type": "stream",
     "text": [
      "Enter the file path for the CSV file:  work/Algerian_forest_fires_cleaned_dataset.csv\n"
     ]
    },
    {
     "name": "stdout",
     "output_type": "stream",
     "text": [
      "File not found. Please check the file path and try again.\n"
     ]
    }
   ],
   "source": [
    "import pandas as pd\n",
    "import matplotlib.pyplot as plt\n",
    "\n",
    "def visualize_sales_data():\n",
    "    # Prompt the user to enter the file path\n",
    "    file_path = input(\"Enter the file path for the CSV file: \")\n",
    "\n",
    "    try:\n",
    "        # Read the CSV file into a DataFrame\n",
    "        df = pd.read_csv(file_path)\n",
    "\n",
    "        # Assume the CSV file has columns like 'Date', 'Product', 'Category', 'Sales'\n",
    "        # You may need to adjust this based on the actual structure of your CSV file\n",
    "        # For example, if the columns are 'date', 'product_name', 'category_name', 'sales_quantity', modify the code accordingly\n",
    "        # df = pd.read_csv(file_path, names=['date', 'product_name', 'category_name', 'sales_quantity'], header=0)\n",
    "\n",
    "        # Convert 'Date' column to datetime format\n",
    "        df['Date'] = pd.to_datetime(df['Date'])\n",
    "\n",
    "        # Group by 'Date' and 'Category' and sum the 'Sales' for each category\n",
    "        sales_by_date_category = df.groupby(['Date', 'Category'])['Sales'].sum().unstack().fillna(0)\n",
    "\n",
    "        # Plot stacked bar chart\n",
    "        sales_by_date_category.plot(kind='bar', stacked=True, figsize=(10, 6))\n",
    "        plt.xlabel('Date')\n",
    "        plt.ylabel('Sales')\n",
    "        plt.title('Stacked Bar Chart of Sales by Category Over Time')\n",
    "        plt.legend(title='Category')\n",
    "        plt.xticks(rotation=45)\n",
    "        plt.tight_layout()\n",
    "        plt.show()\n",
    "\n",
    "    except FileNotFoundError:\n",
    "        print(\"File not found. Please check the file path and try again.\")\n",
    "    except Exception as e:\n",
    "        print(f\"An error occurred: {e}\")\n",
    "\n",
    "# Call the function to visualize sales data\n",
    "visualize_sales_data()\n"
   ]
  },
  {
   "cell_type": "markdown",
   "id": "1a1d40f5-bbef-41d7-8838-f879759e4833",
   "metadata": {},
   "source": [
    "#Q11"
   ]
  },
  {
   "cell_type": "code",
   "execution_count": null,
   "id": "c7c51d90-297b-43ac-ab6e-69a37b6594a2",
   "metadata": {},
   "outputs": [],
   "source": [
    "import pandas as pd\n",
    "\n",
    "# Prompt the user to enter the file path\n",
    "file_path = input(\"Enter the file path of the CSV file containing the student data: \")\n",
    "\n",
    "# Read the CSV file into a Pandas DataFrame\n",
    "df = pd.read_csv(file_path)\n",
    "\n",
    "# Calculate mean, median, and mode of the test scores\n",
    "mean_score = df['Test Score'].mean()\n",
    "median_score = df['Test Score'].median()\n",
    "mode_score = df['Test Score'].mode()\n",
    "\n",
    "# Create a DataFrame to display the results\n",
    "results_df = pd.DataFrame({\n",
    "    'Statistic': ['Mean', 'Median', 'Mode'],\n",
    "    'Value': [mean_score, median_score, ', '.join(map(str, mode_score.tolist()))]  # Convert mode to string for display\n",
    "})\n",
    "\n",
    "# Display the results in a formatted table\n",
    "print(results_df.to_string(index=False))\n"
   ]
  },
  {
   "cell_type": "code",
   "execution_count": null,
   "id": "167242dc-b7e9-4909-8f38-b9e05de239a5",
   "metadata": {},
   "outputs": [],
   "source": []
  }
 ],
 "metadata": {
  "kernelspec": {
   "display_name": "Python 3 (ipykernel)",
   "language": "python",
   "name": "python3"
  },
  "language_info": {
   "codemirror_mode": {
    "name": "ipython",
    "version": 3
   },
   "file_extension": ".py",
   "mimetype": "text/x-python",
   "name": "python",
   "nbconvert_exporter": "python",
   "pygments_lexer": "ipython3",
   "version": "3.10.8"
  }
 },
 "nbformat": 4,
 "nbformat_minor": 5
}
